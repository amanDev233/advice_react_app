{
  "cells": [
    {
      "cell_type": "markdown",
      "metadata": {
        "id": "5aNuEfo409hF"
      },
      "source": [
        "# Fundamenal modes of vibration of a simple building\n",
        "\n",
        "Find the fundamental modes of vibration of a three-storey building with four columns of stiffness $EI$ and height $h$, where each storey has mass $m$.\n",
        "\n",
        "The equilibrium equation of a multiple degree of freedom system is written in matrix matrix form,\n",
        "$$\n",
        "\\mathbf{M}\\ddot{\\mathbf{u}} + \\mathbf{K}\\mathbf{u} = \\mathbf{0} \\ , \\quad\n",
        "\\mathbf{M} = \\left[\\begin{matrix}\n",
        "m_1 & 0 & 0 \\\\\n",
        "0 & m_2 & 0 \\\\\n",
        "0 & 0 & m_3\n",
        "\\end{matrix}\\right] \\ , \\quad\n",
        "\\mathbf{K} = \\left[\\begin{matrix}\n",
        "k_1 + k_2 & -k_2 & 0 \\\\\n",
        "-k_2 & k_2 + k_3 & -k_3 \\\\\n",
        "0 & -k_3 & k_2 + k_3\n",
        "\\end{matrix}\\right]\n",
        "$$\n",
        "\n",
        "Which trying test solutions $\\mathbf{u} = \\mathbf{v}\\sin(\\omega t + \\varphi)$ leads to a generalized eigenvalue problem of the type:\n",
        "\n",
        "$$\n",
        "\\det(\\mathbf{K} - \\omega^2 \\mathbf{M}) = 0\n",
        "$$"
      ]
    },
    {
      "cell_type": "markdown",
      "metadata": {
        "id": "cCex2jlr1ww3"
      },
      "source": [
        "| Geometry of the building |  |\n",
        "|--------------------------|--|\n",
        "| Number of stories | 3 |\n",
        "| Columns | HEB 200 ($\\times 4$) |\n",
        "| Young modulus | $2.7GPa$ |\n",
        "| Storey height | $0.3m$ |\n",
        "| Storey mass | $400g$ |"
      ]
    },
    {
      "cell_type": "code",
      "source": [],
      "metadata": {
        "id": "3eS0coadeXoF"
      },
      "execution_count": null,
      "outputs": []
    },
    {
      "cell_type": "markdown",
      "metadata": {
        "id": "jr_bQZMaDOC3"
      },
      "source": [
        "## Assembly of the matrices\n",
        "\n",
        "First of all, the mass and stiffness matrices are built according to the given data."
      ]
    },
    {
      "cell_type": "code",
      "execution_count": 43,
      "metadata": {
        "id": "6xxVLshC0dc5",
        "colab": {
          "base_uri": "https://localhost:8080/"
        },
        "outputId": "fb414cea-f055-4ce8-808c-48f57e47e500"
      },
      "outputs": [
        {
          "output_type": "stream",
          "name": "stdout",
          "text": [
            "Mass Matrix (M):\n",
            " [[0.35 0.   0.  ]\n",
            " [0.   0.35 0.  ]\n",
            " [0.   0.   0.35]]\n",
            "\n",
            "Stiffness Matrix (K):\n",
            " [[ 610.72561186 -305.36280593    0.        ]\n",
            " [-305.36280593  610.72561186 -305.36280593]\n",
            " [   0.         -305.36280593  305.36280593]]\n"
          ]
        }
      ],
      "source": [
        "import numpy as np\n",
        "\n",
        "# Problem parameters\n",
        "n_stories = 3                            # Number of storeys\n",
        "m = 350 * np.ones(n_stories) / 1000      # Mass per storey in kg (converted from g to kg)\n",
        "E = 2.7e9                                # Young's modulus in Pa (N/m²)\n",
        "d = 0.006                                # Diameter of nylon column in meters (M6 screw)\n",
        "I = np.pi * d**4 / 64                    # Moment of inertia for a circular cross-section in m^4\n",
        "h = 0.3                                  # Height of each storey in meters\n",
        "k = 4 * 12 * E * I / h**3                # Stiffness of 4 nylon columns per storey in N/m\n",
        "\n",
        "# Initialize mass and stiffness matrices\n",
        "M = np.zeros((n_stories, n_stories))\n",
        "K = np.zeros((n_stories, n_stories))\n",
        "\n",
        "# Fill mass and stiffness matrices\n",
        "M[0, 0] = m[0]\n",
        "K[0, 0] = k\n",
        "for i in range(1, n_stories):\n",
        "    M[i, i] += m[i]\n",
        "    K[i, i] += k\n",
        "    K[i - 1, i - 1] += k\n",
        "    K[i, i - 1] += -k\n",
        "    K[i - 1, i] += -k\n",
        "\n",
        "# Print the resulting mass and stiffness matrices\n",
        "print(\"Mass Matrix (M):\\n\", M)\n",
        "print(\"\\nStiffness Matrix (K):\\n\", K)\n"
      ]
    },
    {
      "cell_type": "markdown",
      "metadata": {
        "id": "74tGxphJGd_s"
      },
      "source": [
        "## Solution of the eigenvalue problem\n",
        "\n",
        "We eill use the already implemented function in `scipy` library. More options can be used when calling the library, such as computing only the desired evgenvalues passing the optional argument `eigvals=(0,n)`."
      ]
    },
    {
      "cell_type": "code",
      "execution_count": 44,
      "metadata": {
        "id": "hro54FtbGjsT"
      },
      "outputs": [],
      "source": [
        "from scipy.linalg import eigh\n",
        "eigvals, eigvecs = eigh(K, M)"
      ]
    },
    {
      "cell_type": "markdown",
      "metadata": {
        "id": "XVDDqU4K51M0"
      },
      "source": [
        "Normalization of the eigenvectors and computation of the frequencies. Note that the matrix of eigenvectors needs to be transposed."
      ]
    },
    {
      "cell_type": "code",
      "execution_count": 45,
      "metadata": {
        "id": "3Ber9zZXIUrm",
        "colab": {
          "base_uri": "https://localhost:8080/"
        },
        "outputId": "a78ab2d9-3f28-4b19-fbef-a06c80ac5f61"
      },
      "outputs": [
        {
          "output_type": "stream",
          "name": "stdout",
          "text": [
            "frequiencies F =\n",
            " [13.14543362 36.83268651 53.22477411]\n",
            "periods P =\n",
            " [0.47797475 0.17058721 0.11805001]\n"
          ]
        }
      ],
      "source": [
        "eigvecs_n = [v/np.sqrt(v@M@v) for v in eigvecs.T] # normalization\n",
        "eigvecs_n = np.array(eigvecs_n)                   # cast into numpy array\n",
        "frequencies = eigvals**0.5\n",
        "periods = 2*np.pi/frequencies\n",
        "print(\"frequiencies F =\\n\",frequencies)\n",
        "print(\"periods P =\\n\",periods)"
      ]
    },
    {
      "cell_type": "markdown",
      "metadata": {
        "id": "ZQeqMcvegvX4"
      },
      "source": [
        "### Modal analysis\n",
        "\n",
        "For each mode of deformation, the *modal mass* is defined as\n",
        "$$\n",
        "m_i = \\frac{\\mathbf{v}_i^T \\mathbf{M} \\mathbf{v}_i}{\\mathbf{v}_i^T\\mathbf{v}_i}\n",
        "$$\n",
        "\n",
        "Another important concept is the *partcipative* or *effective mass*. It is defined considering the structure under a general earthquake defined by a direction $\\mathbf{d}$. The unid vector $\\mathbf{d}$ is applied as unit displacement for all the nodes. Thus, this yields the definition of the *effective mass*\n",
        "$$\n",
        "M_i = \\frac{(\\mathbf{v}_i^T \\mathbf{M} \\mathbf{d})^2}{\\mathbf{v}_i^T \\mathbf{M} \\mathbf{v}_i}\n",
        "$$\n",
        "\n",
        "It verifies that the sum of the modal or the effective masses are equal to the total mass of the building:\n",
        "$$\n",
        "\\sum_i m_i = \\sum_i M_i = M = \\text{trace}(\\mathbf{M})\n",
        "$$\n"
      ]
    },
    {
      "cell_type": "code",
      "execution_count": 54,
      "metadata": {
        "id": "IylPOG04go0W",
        "colab": {
          "base_uri": "https://localhost:8080/",
          "height": 332
        },
        "outputId": "a3660b5c-bb98-447e-cc12-ab03e88cd0b2"
      },
      "outputs": [
        {
          "output_type": "error",
          "ename": "ValueError",
          "evalue": "matmul: Input operand 1 has a mismatch in its core dimension 0, with gufunc signature (n?,k),(k,m?)->(n?,m?) (size 5 is different from 3)",
          "traceback": [
            "\u001b[0;31m---------------------------------------------------------------------------\u001b[0m",
            "\u001b[0;31mValueError\u001b[0m                                Traceback (most recent call last)",
            "\u001b[0;32m<ipython-input-54-8e9416bcfa67>\u001b[0m in \u001b[0;36m<cell line: 2>\u001b[0;34m()\u001b[0m\n\u001b[1;32m      1\u001b[0m \u001b[0md\u001b[0m \u001b[0;34m=\u001b[0m \u001b[0mnp\u001b[0m\u001b[0;34m.\u001b[0m\u001b[0mones\u001b[0m\u001b[0;34m(\u001b[0m\u001b[0mn_stories\u001b[0m\u001b[0;34m)\u001b[0m\u001b[0;34m\u001b[0m\u001b[0;34m\u001b[0m\u001b[0m\n\u001b[0;32m----> 2\u001b[0;31m \u001b[0mmodal_mass\u001b[0m \u001b[0;34m=\u001b[0m \u001b[0;34m[\u001b[0m\u001b[0;34m(\u001b[0m\u001b[0mv\u001b[0m\u001b[0;34m@\u001b[0m\u001b[0mM\u001b[0m\u001b[0;34m@\u001b[0m\u001b[0mv\u001b[0m\u001b[0;34m)\u001b[0m \u001b[0;34m/\u001b[0m \u001b[0;34m(\u001b[0m\u001b[0mv\u001b[0m\u001b[0;34m@\u001b[0m\u001b[0mv\u001b[0m\u001b[0;34m)\u001b[0m \u001b[0;32mfor\u001b[0m \u001b[0mv\u001b[0m \u001b[0;32min\u001b[0m \u001b[0meigvecs_n\u001b[0m\u001b[0;34m]\u001b[0m \u001b[0;31m# eigvecs.T\u001b[0m\u001b[0;34m\u001b[0m\u001b[0;34m\u001b[0m\u001b[0m\n\u001b[0m\u001b[1;32m      3\u001b[0m \u001b[0mparticipation\u001b[0m \u001b[0;34m=\u001b[0m \u001b[0;34m[\u001b[0m\u001b[0;34m(\u001b[0m\u001b[0mv\u001b[0m\u001b[0;34m@\u001b[0m\u001b[0mM\u001b[0m\u001b[0;34m@\u001b[0m\u001b[0md\u001b[0m\u001b[0;34m)\u001b[0m \u001b[0;34m/\u001b[0m \u001b[0;34m(\u001b[0m\u001b[0mv\u001b[0m\u001b[0;34m@\u001b[0m\u001b[0mM\u001b[0m\u001b[0;34m@\u001b[0m\u001b[0mv\u001b[0m\u001b[0;34m)\u001b[0m \u001b[0;32mfor\u001b[0m \u001b[0mv\u001b[0m \u001b[0;32min\u001b[0m \u001b[0meigvecs_n\u001b[0m\u001b[0;34m]\u001b[0m \u001b[0;31m# eigvecs.T\u001b[0m\u001b[0;34m\u001b[0m\u001b[0;34m\u001b[0m\u001b[0m\n\u001b[1;32m      4\u001b[0m \u001b[0meff_mass\u001b[0m \u001b[0;34m=\u001b[0m \u001b[0;34m[\u001b[0m\u001b[0;34m(\u001b[0m\u001b[0mv\u001b[0m\u001b[0;34m@\u001b[0m\u001b[0mM\u001b[0m\u001b[0;34m@\u001b[0m\u001b[0md\u001b[0m\u001b[0;34m)\u001b[0m\u001b[0;34m**\u001b[0m\u001b[0;36m2\u001b[0m \u001b[0;34m/\u001b[0m \u001b[0;34m(\u001b[0m\u001b[0mv\u001b[0m\u001b[0;34m@\u001b[0m\u001b[0mM\u001b[0m\u001b[0;34m@\u001b[0m\u001b[0mv\u001b[0m\u001b[0;34m)\u001b[0m \u001b[0;32mfor\u001b[0m \u001b[0mv\u001b[0m \u001b[0;32min\u001b[0m \u001b[0meigvecs_n\u001b[0m\u001b[0;34m]\u001b[0m \u001b[0;31m# eigvecs.T\u001b[0m\u001b[0;34m\u001b[0m\u001b[0;34m\u001b[0m\u001b[0m\n\u001b[1;32m      5\u001b[0m \u001b[0mtraci\u001b[0m \u001b[0;34m=\u001b[0m \u001b[0mnp\u001b[0m\u001b[0;34m.\u001b[0m\u001b[0mtrace\u001b[0m\u001b[0;34m(\u001b[0m\u001b[0meigvals\u001b[0m\u001b[0;34m)\u001b[0m\u001b[0;34m\u001b[0m\u001b[0;34m\u001b[0m\u001b[0m\n",
            "\u001b[0;32m<ipython-input-54-8e9416bcfa67>\u001b[0m in \u001b[0;36m<listcomp>\u001b[0;34m(.0)\u001b[0m\n\u001b[1;32m      1\u001b[0m \u001b[0md\u001b[0m \u001b[0;34m=\u001b[0m \u001b[0mnp\u001b[0m\u001b[0;34m.\u001b[0m\u001b[0mones\u001b[0m\u001b[0;34m(\u001b[0m\u001b[0mn_stories\u001b[0m\u001b[0;34m)\u001b[0m\u001b[0;34m\u001b[0m\u001b[0;34m\u001b[0m\u001b[0m\n\u001b[0;32m----> 2\u001b[0;31m \u001b[0mmodal_mass\u001b[0m \u001b[0;34m=\u001b[0m \u001b[0;34m[\u001b[0m\u001b[0;34m(\u001b[0m\u001b[0mv\u001b[0m\u001b[0;34m@\u001b[0m\u001b[0mM\u001b[0m\u001b[0;34m@\u001b[0m\u001b[0mv\u001b[0m\u001b[0;34m)\u001b[0m \u001b[0;34m/\u001b[0m \u001b[0;34m(\u001b[0m\u001b[0mv\u001b[0m\u001b[0;34m@\u001b[0m\u001b[0mv\u001b[0m\u001b[0;34m)\u001b[0m \u001b[0;32mfor\u001b[0m \u001b[0mv\u001b[0m \u001b[0;32min\u001b[0m \u001b[0meigvecs_n\u001b[0m\u001b[0;34m]\u001b[0m \u001b[0;31m# eigvecs.T\u001b[0m\u001b[0;34m\u001b[0m\u001b[0;34m\u001b[0m\u001b[0m\n\u001b[0m\u001b[1;32m      3\u001b[0m \u001b[0mparticipation\u001b[0m \u001b[0;34m=\u001b[0m \u001b[0;34m[\u001b[0m\u001b[0;34m(\u001b[0m\u001b[0mv\u001b[0m\u001b[0;34m@\u001b[0m\u001b[0mM\u001b[0m\u001b[0;34m@\u001b[0m\u001b[0md\u001b[0m\u001b[0;34m)\u001b[0m \u001b[0;34m/\u001b[0m \u001b[0;34m(\u001b[0m\u001b[0mv\u001b[0m\u001b[0;34m@\u001b[0m\u001b[0mM\u001b[0m\u001b[0;34m@\u001b[0m\u001b[0mv\u001b[0m\u001b[0;34m)\u001b[0m \u001b[0;32mfor\u001b[0m \u001b[0mv\u001b[0m \u001b[0;32min\u001b[0m \u001b[0meigvecs_n\u001b[0m\u001b[0;34m]\u001b[0m \u001b[0;31m# eigvecs.T\u001b[0m\u001b[0;34m\u001b[0m\u001b[0;34m\u001b[0m\u001b[0m\n\u001b[1;32m      4\u001b[0m \u001b[0meff_mass\u001b[0m \u001b[0;34m=\u001b[0m \u001b[0;34m[\u001b[0m\u001b[0;34m(\u001b[0m\u001b[0mv\u001b[0m\u001b[0;34m@\u001b[0m\u001b[0mM\u001b[0m\u001b[0;34m@\u001b[0m\u001b[0md\u001b[0m\u001b[0;34m)\u001b[0m\u001b[0;34m**\u001b[0m\u001b[0;36m2\u001b[0m \u001b[0;34m/\u001b[0m \u001b[0;34m(\u001b[0m\u001b[0mv\u001b[0m\u001b[0;34m@\u001b[0m\u001b[0mM\u001b[0m\u001b[0;34m@\u001b[0m\u001b[0mv\u001b[0m\u001b[0;34m)\u001b[0m \u001b[0;32mfor\u001b[0m \u001b[0mv\u001b[0m \u001b[0;32min\u001b[0m \u001b[0meigvecs_n\u001b[0m\u001b[0;34m]\u001b[0m \u001b[0;31m# eigvecs.T\u001b[0m\u001b[0;34m\u001b[0m\u001b[0;34m\u001b[0m\u001b[0m\n\u001b[1;32m      5\u001b[0m \u001b[0mtraci\u001b[0m \u001b[0;34m=\u001b[0m \u001b[0mnp\u001b[0m\u001b[0;34m.\u001b[0m\u001b[0mtrace\u001b[0m\u001b[0;34m(\u001b[0m\u001b[0meigvals\u001b[0m\u001b[0;34m)\u001b[0m\u001b[0;34m\u001b[0m\u001b[0;34m\u001b[0m\u001b[0m\n",
            "\u001b[0;31mValueError\u001b[0m: matmul: Input operand 1 has a mismatch in its core dimension 0, with gufunc signature (n?,k),(k,m?)->(n?,m?) (size 5 is different from 3)"
          ]
        }
      ],
      "source": [
        "d = np.ones(n_stories)\n",
        "modal_mass = [(v@M@v) / (v@v) for v in eigvecs_n] # eigvecs.T\n",
        "participation = [(v@M@d) / (v@M@v) for v in eigvecs_n] # eigvecs.T\n",
        "eff_mass = [(v@M@d)**2 / (v@M@v) for v in eigvecs_n] # eigvecs.T\n",
        "traci = np.trace(eigvals)\n",
        "eff_mass_rel = eff_mass / traci\n",
        "print(\"tace Matrix M\\n\",traci)\n",
        "print(\"Effective mass  =\\n\",eff_mass)\n",
        "print(\"Mass trace =\\n\",eff_mass_rel)"
      ]
    },
    {
      "cell_type": "markdown",
      "metadata": {
        "id": "2csMncBOIOoT"
      },
      "source": [
        "## Graphical representation of the solution\n",
        "\n",
        "For graphical purpose, an extra node with null displacement has been added to the deformations vector. This node corresponds to the base level."
      ]
    },
    {
      "cell_type": "code",
      "execution_count": 36,
      "metadata": {
        "id": "iB0Jic1GH1mz",
        "colab": {
          "base_uri": "https://localhost:8080/",
          "height": 488
        },
        "outputId": "40ccace9-416b-442b-9688-5a773e3f0ce1"
      },
      "outputs": [
        {
          "output_type": "display_data",
          "data": {
            "text/plain": [
              "<Figure size 1200x500 with 4 Axes>"
            ],
            "image/png": "[encoded data removed]"
          },
          "metadata": {}
        }
      ],
      "source": [
        "import matplotlib.pyplot as plt\n",
        "\n",
        "z = np.arange(0, n_stories+1)*h  # vertical position of the stories. There is an extra position for the base level\n",
        "fig, ax = plt.subplots(1,n_stories+1, sharey=True, figsize=(12,5))\n",
        "\n",
        "def plot_mode(v,i,title):\n",
        "  ax[i].plot(v,z, marker='o', markersize=12)\n",
        "  ax[i].plot(0,0, marker='s', markersize=12, markeredgecolor='gray', markerfacecolor='gray')\n",
        "  ax[i].set_title(title)\n",
        "  ax[i].margins(x=.2)\n",
        "\n",
        "plot_mode(np.zeros(n_stories+1),0,'initial')\n",
        "\n",
        "n_modes = n_stories\n",
        "for i in range(n_modes):\n",
        "  vi = eigvecs_n[i]\n",
        "  vi = np.insert(vi,0,0)    # we add a zero displacement at the base level\n",
        "  legend = f'mode {i+1}\\nT={periods[i]:.1f}s, {eff_mass_rel[i]:.1%}'\n",
        "  plot_mode(vi,i+1,legend)\n",
        "\n",
        "plt.show()"
      ]
    }
  ],
  "metadata": {
    "colab": {
      "provenance": []
    },
    "kernelspec": {
      "display_name": "Python 3",
      "language": "python",
      "name": "python3"
    },
    "language_info": {
      "codemirror_mode": {
        "name": "ipython",
        "version": 3
      },
      "file_extension": ".py",
      "mimetype": "text/x-python",
      "name": "python",
      "nbconvert_exporter": "python",
      "pygments_lexer": "ipython3",
      "version": "3.8.10"
    },
    "vscode": {
      "interpreter": {
        "hash": "916dbcbb3f70747c44a77c7bcd40155683ae19c65e1c03b4aa3499c5328201f1"
      }
    }
  },
  "nbformat": 4,
  "nbformat_minor": 0
}